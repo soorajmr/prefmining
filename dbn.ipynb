{
 "cells": [
  {
   "cell_type": "markdown",
   "metadata": {},
   "source": [
    "# Deep belief network for bimodal embedding"
   ]
  },
  {
   "cell_type": "markdown",
   "metadata": {
    "collapsed": false
   },
   "source": []
  },
  {
   "cell_type": "code",
   "execution_count": 1,
   "metadata": {
    "collapsed": false
   },
   "outputs": [
    {
     "name": "stderr",
     "output_type": "stream",
     "text": [
      "Using gpu device 0: GRID K520\n"
     ]
    }
   ],
   "source": [
    "import timeit\n",
    "import pandas as pd\n",
    "import numpy as np\n",
    "import theano\n",
    "from array import array\n",
    "\n",
    "# Local package\n",
    "from DBN import DBN\n"
   ]
  },
  {
   "cell_type": "code",
   "execution_count": 2,
   "metadata": {
    "collapsed": false
   },
   "outputs": [],
   "source": [
    "numpy_rng = np.random.RandomState(123)\n",
    "\n",
    "# construct the Deep Belief Network\n",
    "dbn = DBN(numpy_rng=numpy_rng, n_ins=50, hidden_layers_sizes=[200, 100, 50], n_outs=10)"
   ]
  },
  {
   "cell_type": "code",
   "execution_count": 3,
   "metadata": {
    "collapsed": true
   },
   "outputs": [],
   "source": [
    "prefvectors = pd.read_csv('prefvectors.csv')"
   ]
  },
  {
   "cell_type": "code",
   "execution_count": 4,
   "metadata": {
    "collapsed": false
   },
   "outputs": [],
   "source": [
    "from array import array\n",
    "X = prefvectors.factors.apply(lambda x: np.array(eval(x)))\n",
    "shared_x = theano.shared(np.asarray(list(X), dtype=theano.config.floatX), borrow=True)"
   ]
  },
  {
   "cell_type": "code",
   "execution_count": 12,
   "metadata": {
    "collapsed": false
   },
   "outputs": [
    {
     "name": "stdout",
     "output_type": "stream",
     "text": [
      "Pre-training layer 0, epoch 0, cost  -5.94614\n",
      "Pre-training layer 0, epoch 1, cost  -0.179251\n",
      "Pre-training layer 0, epoch 2, cost  -0.0943452\n",
      "Pre-training layer 0, epoch 3, cost  -0.065069\n",
      "Pre-training layer 0, epoch 4, cost  -0.0493488\n",
      "Pre-training layer 1, epoch 0, cost  -155.28\n",
      "Pre-training layer 1, epoch 1, cost  -144.023\n",
      "Pre-training layer 1, epoch 2, cost  -141.61\n",
      "Pre-training layer 1, epoch 3, cost  -140.474\n",
      "Pre-training layer 1, epoch 4, cost  -139.855\n",
      "Pre-training layer 2, epoch 0, cost  -8.39875\n",
      "Pre-training layer 2, epoch 1, cost  -2.22004\n",
      "Pre-training layer 2, epoch 2, cost  -2.05128\n",
      "Pre-training layer 2, epoch 3, cost  -1.97654\n",
      "Pre-training layer 2, epoch 4, cost  -1.93933\n"
     ]
    },
    {
     "name": "stderr",
     "output_type": "stream",
     "text": [
      "/usr/local/lib/python2.7/dist-packages/theano/scan_module/scan_perform_ext.py:133: RuntimeWarning: numpy.ndarray size changed, may indicate binary incompatibility\n",
      "  from scan_perform.scan_perform import *\n"
     ]
    }
   ],
   "source": [
    "batch_size = 20\n",
    "pretraining_epochs = 5\n",
    "batch_count = shared_x.get_value(borrow=True).shape[0] / batch_size\n",
    "\n",
    "pretraining_fns = dbn.pretraining_functions(train_set_x=shared_x, batch_size=batch_size, k=10)\n",
    "\n",
    "start_time = timeit.default_timer()\n",
    "\n",
    "## Pre-train layer-wise\n",
    "for i in xrange(dbn.n_layers):\n",
    "    # go through pretraining epochs\n",
    "    for epoch in xrange(pretraining_epochs):\n",
    "        # go through the training set\n",
    "        c = []\n",
    "        for batch_index in xrange(batch_count):\n",
    "            c.append(pretraining_fns[i](index=batch_index, lr=0.01))\n",
    "        print 'Pre-training layer %i, epoch %d, cost ' % (i, epoch),\n",
    "        print np.mean(c)\n",
    "\n",
    "end_time = timeit.default_timer()"
   ]
  },
  {
   "cell_type": "code",
   "execution_count": 47,
   "metadata": {
    "collapsed": false
   },
   "outputs": [],
   "source": [
    "output = dbn.sigmoid_layers[2].params[0].get_value(borrow=True)"
   ]
  },
  {
   "cell_type": "code",
   "execution_count": 50,
   "metadata": {
    "collapsed": false
   },
   "outputs": [],
   "source": [
    "output.dump(\"dbnout.pickle\")"
   ]
  },
  {
   "cell_type": "code",
   "execution_count": null,
   "metadata": {
    "collapsed": true
   },
   "outputs": [],
   "source": []
  }
 ],
 "metadata": {
  "kernelspec": {
   "display_name": "Python 2",
   "language": "python",
   "name": "python2"
  },
  "language_info": {
   "codemirror_mode": {
    "name": "ipython",
    "version": 2
   },
   "file_extension": ".py",
   "mimetype": "text/x-python",
   "name": "python",
   "nbconvert_exporter": "python",
   "pygments_lexer": "ipython2",
   "version": "2.7.6"
  }
 },
 "nbformat": 4,
 "nbformat_minor": 0
}
