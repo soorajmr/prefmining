{
 "cells": [
  {
   "cell_type": "markdown",
   "metadata": {},
   "source": [
    "# Predicting Preference Space Neighbours Using Content Space Neighbours"
   ]
  },
  {
   "cell_type": "code",
   "execution_count": 53,
   "metadata": {
    "collapsed": true
   },
   "outputs": [],
   "source": [
    "import pandas as pd\n",
    "import numpy as np\n",
    "import pickle\n",
    "\n",
    "with open('data/output/mv2wiki.pickle', 'rb') as f:\n",
    "    mv2wiki = pickle.load(f)\n",
    "    \n",
    "with open('data/output/content_vectors.pickle', 'rb') as f:\n",
    "    cvecs = pickle.load(f)\n",
    "    \n",
    "with open('data/output/content_titles.pickle', 'rb') as f:\n",
    "    ctitles = pickle.load(f)\n",
    "    \n",
    "with open('data/output/pref_vectors.pickle', 'rb') as f:\n",
    "    pvecs = pickle.load(f)\n",
    "    \n",
    "with open('data/output/pref_movieids.pickle', 'rb') as f:\n",
    "    pmovieids = pickle.load(f)"
   ]
  },
  {
   "cell_type": "code",
   "execution_count": 54,
   "metadata": {
    "collapsed": true
   },
   "outputs": [],
   "source": [
    "movies = pd.read_csv(\"data/ml-20m/movies.csv\")\n",
    "ml_titlemap = dict(zip(movies.movieId, movies.title))\n",
    "ptitles = [ml_titlemap[mid].decode('utf-8') for mid in pmovieids]"
   ]
  },
  {
   "cell_type": "code",
   "execution_count": 55,
   "metadata": {
    "collapsed": false
   },
   "outputs": [],
   "source": [
    "from sklearn.neighbors import NearestNeighbors\n",
    "cnbrs = NearestNeighbors(n_neighbors=20, algorithm='ball_tree').fit(cvecs)\n",
    "pnbrs = NearestNeighbors(n_neighbors=20, algorithm='ball_tree').fit(pvecs)"
   ]
  },
  {
   "cell_type": "markdown",
   "metadata": {},
   "source": [
    "## C-neighbourhood Vs P-neighbourhood "
   ]
  },
  {
   "cell_type": "markdown",
   "metadata": {},
   "source": [
    "Let's check the neighbourhoods of the movie \"Transformers: Dark of the Moon\" "
   ]
  },
  {
   "cell_type": "code",
   "execution_count": 56,
   "metadata": {
    "collapsed": false
   },
   "outputs": [
    {
     "name": "stdout",
     "output_type": "stream",
     "text": [
      "Content space neighbours: \n",
      "-------------------------\n",
      "Transformers: Dark of the Moon (2011)\n",
      "Battleship (2012)\n",
      "The Untold (2002)\n",
      "Yakuza Weapon (2011)\n",
      "Kaizoku Sentai Gokaiger the Movie: The Flying Ghost Ship (2011)\n",
      "John Carter (2012)\n",
      "Prometheus (2012)\n",
      "Ironclad (2011)\n",
      "Kamen Rider Fourze the Movie: Space, Here We Come! (2012)\n",
      "Oblivion (2013)\n",
      "Tensou Sentai Goseiger vs. Shinkenger: Epic on Ginmaku (2011)\n",
      "Kamen Rider × Super Sentai × Space Sheriff: Super Hero Taisen Z (2013)\n",
      "Kaizoku Sentai Gokaiger vs. Space Sheriff Gavan: The Movie (2012)\n",
      "Battle of Los Angeles (2011)\n",
      "Apollo 18 (2011)\n",
      "Hunter Prey (2010)\n",
      "Race to Witch Mountain (2009)\n",
      "The Divine Weapon (2008)\n",
      "The Pirates! In an Adventure with Scientists! (2012)\n",
      "Red Dawn (2012)\n",
      "\n",
      "Preference space neighbours: \n",
      "----------------------------\n",
      "Transformers: Dark of the Moon (2011)\n",
      "Transformers: Revenge of the Fallen (2009)\n",
      "How to Make an American Quilt (1995)\n",
      "Big One, The (1997)\n",
      "Oliver! (1968)\n",
      "Sexual Life of the Belgians, The (Vie sexuelle des Belges 1950-1978, La) (1994)\n",
      "Hope and Glory (1987)\n",
      "Killing Zoe (1994)\n",
      "Jeremiah Johnson (1972)\n",
      "Sex and the City (2008)\n",
      "Homeward Bound: The Incredible Journey (1993)\n",
      "Battle Royale (Batoru rowaiaru) (2000)\n",
      "Everything You Always Wanted to Know About Sex * But Were Afraid to Ask (1972)\n",
      "Parenthood (1989)\n",
      "Quiet Man, The (1952)\n",
      "My Life and Times With Antonin Artaud (En compagnie d'Antonin Artaud) (1993)\n",
      "My Favorite Year (1982)\n",
      "Ever After: A Cinderella Story (1998)\n",
      "Brotherhood of the Wolf (Pacte des loups, Le) (2001)\n",
      "Red Sorghum (Hong gao liang) (1987)\n"
     ]
    },
    {
     "name": "stderr",
     "output_type": "stream",
     "text": [
      "/usr/local/lib/python2.7/dist-packages/sklearn/utils/validation.py:386: DeprecationWarning: Passing 1d arrays as data is deprecated in 0.17 and willraise ValueError in 0.19. Reshape your data either using X.reshape(-1, 1) if your data has a single feature or X.reshape(1, -1) if it contains a single sample.\n",
      "  DeprecationWarning)\n",
      "/usr/local/lib/python2.7/dist-packages/sklearn/utils/validation.py:386: DeprecationWarning: Passing 1d arrays as data is deprecated in 0.17 and willraise ValueError in 0.19. Reshape your data either using X.reshape(-1, 1) if your data has a single feature or X.reshape(1, -1) if it contains a single sample.\n",
      "  DeprecationWarning)\n"
     ]
    }
   ],
   "source": [
    "pidx = ptitles.index('Transformers: Dark of the Moon (2011)')\n",
    "cidx = mv2wiki[pidx]\n",
    "\n",
    "d, cnbr_indices = cnbrs.kneighbors(cvecs[cidx])\n",
    "print \"Content space neighbours: \\n-------------------------\"\n",
    "print '\\n'.join([ctitles[i] for i in cnbr_indices[0]])\n",
    "\n",
    "d, pnbr_indices = pnbrs.kneighbors(pvecs[pidx])\n",
    "print \"\\nPreference space neighbours: \\n----------------------------\"\n",
    "print '\\n'.join([ptitles[i] for i in pnbr_indices[0]])"
   ]
  },
  {
   "cell_type": "markdown",
   "metadata": {},
   "source": [
    "# Movies with only content space representation"
   ]
  },
  {
   "cell_type": "code",
   "execution_count": 57,
   "metadata": {
    "collapsed": false
   },
   "outputs": [],
   "source": [
    "wiki2mv = {v:k for k,v in mv2wiki.items()}"
   ]
  },
  {
   "cell_type": "code",
   "execution_count": 58,
   "metadata": {
    "collapsed": false
   },
   "outputs": [
    {
     "ename": "KeyError",
     "evalue": "456",
     "output_type": "error",
     "traceback": [
      "\u001b[1;31m---------------------------------------------------------------------------\u001b[0m",
      "\u001b[1;31mKeyError\u001b[0m                                  Traceback (most recent call last)",
      "\u001b[1;32m<ipython-input-58-85ba808d7274>\u001b[0m in \u001b[0;36m<module>\u001b[1;34m()\u001b[0m\n\u001b[0;32m      1\u001b[0m \u001b[0mcidx\u001b[0m \u001b[1;33m=\u001b[0m \u001b[0mctitles\u001b[0m\u001b[1;33m.\u001b[0m\u001b[0mindex\u001b[0m\u001b[1;33m(\u001b[0m\u001b[1;34m'Night Train to Lisbon (2013)'\u001b[0m\u001b[1;33m)\u001b[0m\u001b[1;33m\u001b[0m\u001b[0m\n\u001b[1;32m----> 2\u001b[1;33m \u001b[0mwiki2mv\u001b[0m\u001b[1;33m[\u001b[0m\u001b[0mcidx\u001b[0m\u001b[1;33m]\u001b[0m\u001b[1;33m\u001b[0m\u001b[0m\n\u001b[0m",
      "\u001b[1;31mKeyError\u001b[0m: 456"
     ]
    }
   ],
   "source": [
    "cidx = ctitles.index('Night Train to Lisbon (2013)')\n",
    "wiki2mv[cidx]"
   ]
  },
  {
   "cell_type": "markdown",
   "metadata": {},
   "source": [
    "This is a movie for which we don't have a preference space representation."
   ]
  },
  {
   "cell_type": "code",
   "execution_count": 59,
   "metadata": {
    "collapsed": false
   },
   "outputs": [
    {
     "name": "stdout",
     "output_type": "stream",
     "text": [
      "a neighbour is in preference space\n",
      "a neighbour is in preference space\n"
     ]
    },
    {
     "name": "stderr",
     "output_type": "stream",
     "text": [
      "/usr/local/lib/python2.7/dist-packages/sklearn/utils/validation.py:386: DeprecationWarning: Passing 1d arrays as data is deprecated in 0.17 and willraise ValueError in 0.19. Reshape your data either using X.reshape(-1, 1) if your data has a single feature or X.reshape(1, -1) if it contains a single sample.\n",
      "  DeprecationWarning)\n"
     ]
    }
   ],
   "source": [
    "d, cnbr_indices = cnbrs.kneighbors(cvecs[cidx])\n",
    "pnbr_vecs = []\n",
    "for i in cnbr_indices[0]:\n",
    "    pidx = wiki2mv.get(i, None)\n",
    "    if(pidx is not None):\n",
    "        print \"a neighbour is in preference space\"\n",
    "        pnbr_vecs.append(pvecs[pidx])"
   ]
  },
  {
   "cell_type": "code",
   "execution_count": 69,
   "metadata": {
    "collapsed": false
   },
   "outputs": [],
   "source": [
    "pflat = []\n",
    "for ps in pnbr_indices:\n",
    "    for p in ps:\n",
    "        pflat += [p]"
   ]
  },
  {
   "cell_type": "code",
   "execution_count": 71,
   "metadata": {
    "collapsed": false
   },
   "outputs": [
    {
     "name": "stdout",
     "output_type": "stream",
     "text": [
      "Content space neighbours: \n",
      "-------------------------\n",
      "Night Train to Lisbon (2013)\n",
      "Scenic Route (2013)\n",
      "Sri Ramakrishna Darshanam (2012)\n",
      "Siam–Burma Death Railway (2014)\n",
      "Street Society (2014)\n",
      "Pilla Nuvvu Leni Jeevitam (2014)\n",
      "Irukku Aana Illai (2014)\n",
      "Legend (2014)\n",
      "School Dance (2014)\n",
      "Kappal (2014)\n",
      "Benvenuti al Nord (2012)\n",
      "Whiplash (2014)\n",
      "Antisocial (2013)\n",
      "Like Sunday, Like Rain (2014)\n",
      "Lessons in Forgetting (2012)\n",
      "Super Nani (2014)\n",
      "Adhisaya Ulagam (2012)\n",
      "22 Jump Street (2014)\n",
      "The Last: Naruto the Movie (2014)\n",
      "The Best Offer (2013)\n",
      "\n",
      "Predicted preference space neighbours: \n",
      "----------------------------\n",
      "Whiplash (2014)\n",
      "Warrior (2011)\n",
      "Persona (1966)\n",
      "The Count of Monte Cristo (2002)\n",
      "Seven Pounds (2008)\n",
      "Hobbit: The Desolation of Smaug, The (2013)\n",
      "Now You See Me (2013)\n",
      "X-Men: Days of Future Past (2014)\n",
      "Fighter, The (2010)\n",
      "Legend of Bagger Vance, The (2000)\n",
      "Boy in the Striped Pajamas, The (Boy in the Striped Pyjamas, The) (2008)\n",
      "Apocalypto (2006)\n",
      "Guardians of the Galaxy (2014)\n",
      "Dallas Buyers Club (2013)\n",
      "Sister Act 2: Back in the Habit (1993)\n",
      "Pink Floyd: The Wall (1982)\n",
      "Harry Potter and the Order of the Phoenix (2007)\n",
      "Black Mirror (2011)\n",
      "U Turn (1997)\n",
      "Two Weeks Notice (2002)\n",
      "22 Jump Street (2014)\n",
      "Spirit: Stallion of the Cimarron (2002)\n",
      "Kung Fu Panda: Secrets of the Furious Five (2008)\n",
      "Chronicles of Narnia: Prince Caspian, The (2008)\n",
      "Last Holiday (2006)\n",
      "Coffee and Cigarettes (2003)\n",
      "4 Months, 3 Weeks and 2 Days (4 luni, 3 saptamâni si 2 zile) (2007)\n",
      "Wit (2001)\n",
      "Nosferatu the Vampyre (Nosferatu: Phantom der Nacht) (1979)\n",
      "Angel-A (2005)\n",
      "This Is the End (2013)\n",
      "Flawless (1999)\n",
      "Mondays in the Sun (Lunes al sol, Los) (2002)\n",
      "My Sassy Girl (Yeopgijeogin geunyeo) (2001)\n",
      "Kirikou and the Sorceress (Kirikou et la sorcière) (1998)\n",
      "Love & Human Remains (1993)\n",
      "Eden Lake (2008)\n",
      "Silent Hill (2006)\n",
      "Oceans (Océans) (2009)\n",
      "Hour of the Wolf (Vargtimmen) (1968)\n"
     ]
    }
   ],
   "source": [
    "print \"Content space neighbours: \\n-------------------------\"\n",
    "print '\\n'.join([ctitles[i] for i in cnbr_indices[0]])\n",
    "\n",
    "d, pnbr_indices = pnbrs.kneighbors(pnbr_vecs)\n",
    "print \"\\nPredicted preference space neighbours: \\n----------------------------\"\n",
    "print '\\n'.join([ptitles[i] for i in pflat])"
   ]
  },
  {
   "cell_type": "code",
   "execution_count": null,
   "metadata": {
    "collapsed": true
   },
   "outputs": [],
   "source": []
  }
 ],
 "metadata": {
  "kernelspec": {
   "display_name": "Python 2",
   "language": "python",
   "name": "python2"
  },
  "language_info": {
   "codemirror_mode": {
    "name": "ipython",
    "version": 2
   },
   "file_extension": ".py",
   "mimetype": "text/x-python",
   "name": "python",
   "nbconvert_exporter": "python",
   "pygments_lexer": "ipython2",
   "version": "2.7.6"
  }
 },
 "nbformat": 4,
 "nbformat_minor": 0
}
